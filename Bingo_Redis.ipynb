{
 "cells": [
  {
   "cell_type": "code",
   "execution_count": 1,
   "metadata": {},
   "outputs": [],
   "source": [
    "import redis"
   ]
  },
  {
   "cell_type": "code",
   "execution_count": 2,
   "metadata": {},
   "outputs": [],
   "source": [
    "redis = redis.Redis('localhost')"
   ]
  },
  {
   "cell_type": "code",
   "execution_count": 3,
   "metadata": {},
   "outputs": [],
   "source": [
    "# cria lista de numeros para cartelas\n",
    "def cria_lista():\n",
    "    for x in range(99):\n",
    "        redis.sadd(\"lista\", x+1)"
   ]
  },
  {
   "cell_type": "code",
   "execution_count": 4,
   "metadata": {},
   "outputs": [],
   "source": [
    "# cadastra os jogadores\n",
    "ctx = 1\n",
    "while ctx <= 50:\n",
    "    i = str(ctx)\n",
    "    redis.hset(\"user\"+i, \"nome\", \"user\"+i)\n",
    "    redis.hset(\"user\"+i, \"cartela\", \"cartela\"+i)\n",
    "    redis.hset(\"user\"+i, \"score\", \"score\"+i)\n",
    "    \n",
    "    ctx += 1"
   ]
  },
  {
   "cell_type": "code",
   "execution_count": 5,
   "metadata": {},
   "outputs": [],
   "source": [
    "# cria as cartelas\n",
    "for x in range(50):\n",
    "    cria_lista()\n",
    "    for i in range(15):\n",
    "        num = redis.srandmember('lista')\n",
    "        redis.sadd(\"cartela\"+str(x+1), num)\n",
    "        redis.srem('lista', num)"
   ]
  },
  {
   "cell_type": "code",
   "execution_count": 6,
   "metadata": {},
   "outputs": [],
   "source": [
    "# cria score zero para todos\n",
    "for x in range(50):\n",
    "    redis.zadd(\"score\", {\"score\"+str(x+1): 0})"
   ]
  },
  {
   "cell_type": "code",
   "execution_count": 7,
   "metadata": {},
   "outputs": [],
   "source": [
    "#sorteia os numeros até alguem chegue ao score 15\n",
    "cria_lista()\n",
    "i = 0\n",
    "while i != 1:  \n",
    "    num = redis.srandmember('lista')\n",
    "    redis.srem('lista', num)\n",
    "    \n",
    "    for x in range(50):\n",
    "        ctl = 'cartela'+str(x+1)\n",
    "        scr = 'score'+str(x+1)\n",
    "        nm = 'user'+str(x+1)\n",
    "        if redis.sismember(ctl,num):\n",
    "            redis.zincrby('score', float(1), scr)\n",
    "            \n",
    "        if len(redis.zrangebyscore('score',15,15)) > 0:\n",
    "            i = 1\n",
    "    "
   ]
  },
  {
   "cell_type": "code",
   "execution_count": 20,
   "metadata": {},
   "outputs": [
    {
     "name": "stdout",
     "output_type": "stream",
     "text": [
      "[b'score48']\n"
     ]
    }
   ],
   "source": [
    "#jogadores que alcançaram 15 pontos\n",
    "ganhadores = redis.zrangebyscore('score',15,15)\n",
    "print(redis.zrangebyscore('score',15,15))"
   ]
  },
  {
   "cell_type": "code",
   "execution_count": 21,
   "metadata": {},
   "outputs": [
    {
     "name": "stdout",
     "output_type": "stream",
     "text": [
      "b'user48'\n"
     ]
    }
   ],
   "source": [
    "#busca o nome dos jogadores com 15 pontos\n",
    "for x in range(50):\n",
    "    for i in ganhadores:\n",
    "        if redis.hget('user'+str(x+1), 'score') == i:\n",
    "            print(redis.hget('user'+str(x+1), 'nome'))"
   ]
  },
  {
   "cell_type": "code",
   "execution_count": null,
   "metadata": {},
   "outputs": [],
   "source": []
  }
 ],
 "metadata": {
  "kernelspec": {
   "display_name": ".venv",
   "language": "python",
   "name": ".venv"
  },
  "language_info": {
   "codemirror_mode": {
    "name": "ipython",
    "version": 3
   },
   "file_extension": ".py",
   "mimetype": "text/x-python",
   "name": "python",
   "nbconvert_exporter": "python",
   "pygments_lexer": "ipython3",
   "version": "3.8.1"
  }
 },
 "nbformat": 4,
 "nbformat_minor": 4
}
